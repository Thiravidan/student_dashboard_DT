{
 "cells": [
  {
   "cell_type": "code",
   "execution_count": 5,
   "id": "f72b0966-0032-457f-b88d-c6c1bb5ac885",
   "metadata": {},
   "outputs": [
    {
     "name": "stdout",
     "output_type": "stream",
     "text": [
      "Processed data saved to processed_data_case_insensitive.xlsx\n"
     ]
    }
   ],
   "source": [
    "import pandas as pd\n",
    "\n",
    "# Load the Excel file\n",
    "file_path = 'test2tp.xlsx'  # Replace with the path to your file\n",
    "df = pd.read_excel(file_path)\n",
    "\n",
    "# Rename columns for simplicity\n",
    "df.columns = ['Name_Basic', 'Basic_Screening', 'Name_Advanced', 'Advanced_Screening']\n",
    "\n",
    "# Normalize names to lowercase for consistent matching\n",
    "df['Name_Basic'] = df['Name_Basic'].str.lower()\n",
    "df['Name_Advanced'] = df['Name_Advanced'].str.lower()\n",
    "\n",
    "# Merge the data using the normalized names\n",
    "df_combined = pd.merge(\n",
    "    df[['Name_Basic', 'Basic_Screening']].rename(columns={'Name_Basic': 'Name'}),\n",
    "    df[['Name_Advanced', 'Advanced_Screening']].rename(columns={'Name_Advanced': 'Name'}),\n",
    "    on='Name',\n",
    "    how='outer'\n",
    ")\n",
    "\n",
    "# Fill missing values\n",
    "df_combined['Basic_Screening'] = df_combined['Basic_Screening'].fillna(0).astype(int)\n",
    "df_combined['Advanced_Screening'] = df_combined['Advanced_Screening'].fillna(0).astype(int)\n",
    "\n",
    "# Save the processed data to a new Excel file\n",
    "output_file = 'processed_data_case_insensitive.xlsx'\n",
    "df_combined.to_excel(output_file, index=False)\n",
    "\n",
    "print(f\"Processed data saved to {output_file}\")\n"
   ]
  },
  {
   "cell_type": "code",
   "execution_count": 9,
   "id": "d87fa5d7-c074-4e9f-a3a3-f858ef6c2fc0",
   "metadata": {},
   "outputs": [
    {
     "name": "stdout",
     "output_type": "stream",
     "text": [
      "Dashboard updated and saved at: updated_dashboard.xlsx\n"
     ]
    }
   ],
   "source": [
    "import pandas as pd\n",
    "from openpyxl import load_workbook\n",
    "from openpyxl.styles import PatternFill\n",
    "\n",
    "# Load the existing data\n",
    "file_path = \"task1.xlsx\"\n",
    "df = pd.read_excel(file_path)\n",
    "\n",
    "# Rename columns for easier handling (adjust names as per your sheet)\n",
    "df.columns = ['Name', 'Basic_Screening', 'Advanced_Screening', 'Total', 'Percentage']\n",
    "\n",
    "# Convert relevant columns to numeric to avoid type errors\n",
    "df['Basic_Screening'] = pd.to_numeric(df['Basic_Screening'], errors='coerce')\n",
    "df['Advanced_Screening'] = pd.to_numeric(df['Advanced_Screening'], errors='coerce')\n",
    "\n",
    "# Handle any missing or invalid numeric data\n",
    "df.fillna(0, inplace=True)\n",
    "\n",
    "# Calculate Total and Percentage\n",
    "max_score = 30  # Change this to the actual max score if different\n",
    "df['Total'] = df['Basic_Screening'] + df['Advanced_Screening']\n",
    "df['Percentage'] = (df['Total'] / max_score) * 100\n",
    "\n",
    "# Add a Rank column based on Percentage\n",
    "df['Rank'] = df['Percentage'].rank(ascending=False, method='min')\n",
    "\n",
    "# Save the updated data back to a new Excel file\n",
    "output_path = \"updated_dashboard.xlsx\"\n",
    "df.to_excel(output_path, index=False, engine='openpyxl')\n",
    "\n",
    "# Apply conditional formatting for visualization\n",
    "wb = load_workbook(output_path)\n",
    "ws = wb.active\n",
    "\n",
    "# Apply formatting: green fill for high scores, red for low\n",
    "for row in range(2, len(df) + 2):\n",
    "    cell = ws[f\"E{row}\"]  # Assuming 'Percentage' is in column E\n",
    "    if cell.value > 80:\n",
    "        cell.fill = PatternFill(start_color=\"00FF00\", end_color=\"00FF00\", fill_type=\"solid\")  # Green\n",
    "    elif cell.value < 40:\n",
    "        cell.fill = PatternFill(start_color=\"FF0000\", end_color=\"FF0000\", fill_type=\"solid\")  # Red\n",
    "\n",
    "# Save the workbook with formatting\n",
    "wb.save(output_path)\n",
    "print(\"Dashboard updated and saved at:\", output_path)\n"
   ]
  },
  {
   "cell_type": "code",
   "execution_count": null,
   "id": "35b85634-d646-4b31-b234-577e13acaf15",
   "metadata": {},
   "outputs": [],
   "source": []
  }
 ],
 "metadata": {
  "kernelspec": {
   "display_name": "Python 3 (ipykernel)",
   "language": "python",
   "name": "python3"
  },
  "language_info": {
   "codemirror_mode": {
    "name": "ipython",
    "version": 3
   },
   "file_extension": ".py",
   "mimetype": "text/x-python",
   "name": "python",
   "nbconvert_exporter": "python",
   "pygments_lexer": "ipython3",
   "version": "3.12.4"
  }
 },
 "nbformat": 4,
 "nbformat_minor": 5
}
